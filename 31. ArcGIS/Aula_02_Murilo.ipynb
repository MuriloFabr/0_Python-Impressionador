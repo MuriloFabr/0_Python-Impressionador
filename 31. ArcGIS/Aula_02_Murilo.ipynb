{
 "cells": [
  {
   "cell_type": "code",
   "execution_count": 1,
   "metadata": {},
   "outputs": [
    {
     "name": "stdout",
     "output_type": "stream",
     "text": [
      "Teste Jupyter Notebook\n"
     ]
    }
   ],
   "source": [
    "print(\"Teste Jupyter Notebook\")"
   ]
  },
  {
   "cell_type": "code",
   "execution_count": 2,
   "metadata": {},
   "outputs": [
    {
     "name": "stderr",
     "output_type": "stream",
     "text": [
      "c:\\Users\\muril\\.conda\\envs\\.venv\\lib\\site-packages\\arcgis\\features\\_data\\geodataset\\utils.py:16: FutureWarning: The pandas.datetime class is deprecated and will be removed from pandas in a future version. Import from datetime module instead.\n",
      "  pd.datetime,\n"
     ]
    }
   ],
   "source": [
    "from arcgis.gis import GIS\n",
    "from arcgis.features import FeatureLayer"
   ]
  },
  {
   "cell_type": "code",
   "execution_count": 3,
   "metadata": {},
   "outputs": [],
   "source": [
    "gis = GIS()"
   ]
  },
  {
   "cell_type": "code",
   "execution_count": 4,
   "metadata": {},
   "outputs": [
    {
     "data": {
      "text/html": [
       "<div class=\"9item_container\" style=\"height: auto; overflow: hidden; border: 1px solid #cfcfcf; border-radius: 2px; background: #f6fafa; line-height: 1.21429em; padding: 10px;\">\n",
       "                    <div class=\"item_left\" style=\"width: 210px; float: left;\">\n",
       "                       <a href='https://www.arcgis.com/home/user.html?user=rxsingh' target='_blank'>\n",
       "                        <img src='https://www.arcgis.com/sharing/rest/community/users/rxsingh/info/rohit150.png' class=\"itemThumbnail\">\n",
       "                       </a>\n",
       "                    </div>\n",
       "\n",
       "                    <div class=\"item_right\" style=\"float: none; width: auto; overflow: hidden;\">\n",
       "                        <a href='https://www.arcgis.com/home/user.html?user=rxsingh' target='_blank'><b>Rohit Singh</b>\n",
       "                        </a>\n",
       "                        <br/><br/><b>Bio</b>: \n",
       "                        <br/><b>First Name</b>: Rohit\n",
       "                        <br/><b>Last Name</b>: Singh\n",
       "                        <br/><b>Username</b>: rxsingh\n",
       "                        <br/><b>Joined</b>: July 02, 2014\n",
       "\n",
       "                    </div>\n",
       "                </div>\n",
       "                "
      ],
      "text/plain": [
       "<User username:rxsingh>"
      ]
     },
     "metadata": {},
     "output_type": "display_data"
    }
   ],
   "source": [
    "user = gis.users.get('rxsingh')\n",
    "display(user)"
   ]
  },
  {
   "cell_type": "code",
   "execution_count": 5,
   "metadata": {},
   "outputs": [
    {
     "data": {
      "application/vnd.jupyter.widget-view+json": {
       "model_id": "7d7a9fc89de74673b286eb1e75448d42",
       "version_major": 2,
       "version_minor": 0
      },
      "text/plain": [
       "MapView(layout=Layout(height='400px', width='100%'))"
      ]
     },
     "metadata": {},
     "output_type": "display_data"
    },
    {
     "data": {
      "text/html": [
       "<div class=\"map-static-img-preview-c02fbd8c-7d78-444e-b729-71114c721ff1\"><img src=\"\"></img></div>"
      ],
      "text/plain": [
       "<IPython.core.display.HTML object>"
      ]
     },
     "metadata": {},
     "output_type": "display_data"
    }
   ],
   "source": [
    "map = gis.map(\"Rua Galileu Galilei, 253, Ribeirão Preto, SP, Brazil\")\n",
    "map"
   ]
  },
  {
   "cell_type": "code",
   "execution_count": 6,
   "metadata": {},
   "outputs": [
    {
     "data": {
      "text/html": [
       "<div class=\"item_container\" style=\"height: auto; overflow: hidden; border: 1px solid #cfcfcf; border-radius: 2px; background: #f6fafa; line-height: 1.21429em; padding: 10px;\">\n",
       "                    <div class=\"item_left\" style=\"width: 210px; float: left;\">\n",
       "                       <a href='https://www.arcgis.com/home/item.html?id=543f4b2d3eb9487b96e077081d1a9be3' target='_blank'>\n",
       "                        <img src='https://www.arcgis.com/sharing/rest//content/items/543f4b2d3eb9487b96e077081d1a9be3/info/thumbnail/ago_downloaded.png' class=\"itemThumbnail\">\n",
       "                       </a>\n",
       "                    </div>\n",
       "\n",
       "                    <div class=\"item_right\"     style=\"float: none; width: auto; overflow: hidden;\">\n",
       "                        <a href='https://www.arcgis.com/home/item.html?id=543f4b2d3eb9487b96e077081d1a9be3' target='_blank'><b>Brazil, SP, Ribeirão Preto - Land parcels</b>\n",
       "                        </a>\n",
       "                        <br/><img src='https://www.arcgis.com/home/js/jsapi/esri/css/images/item_type_icons/featureshosted16.png' style=\"vertical-align:middle;\">Feature Layer Collection by data@addressforall.org\n",
       "                        <br/>Last Modified: junho 22, 2023\n",
       "                        <br/>0 comments, 18 views\n",
       "                    </div>\n",
       "                </div>\n",
       "                "
      ],
      "text/plain": [
       "<Item title:\"Brazil, SP, Ribeirão Preto - Land parcels\" type:Feature Layer Collection owner:data@addressforall.org>"
      ]
     },
     "metadata": {},
     "output_type": "display_data"
    }
   ],
   "source": [
    "layer_loteamento = gis.content.get('543f4b2d3eb9487b96e077081d1a9be3')\n",
    "display(layer_loteamento)"
   ]
  },
  {
   "cell_type": "code",
   "execution_count": 7,
   "metadata": {},
   "outputs": [
    {
     "data": {
      "text/html": [
       "<div class=\"item_container\" style=\"height: auto; overflow: hidden; border: 1px solid #cfcfcf; border-radius: 2px; background: #f6fafa; line-height: 1.21429em; padding: 10px;\">\n",
       "                    <div class=\"item_left\" style=\"width: 210px; float: left;\">\n",
       "                       <a href='https://www.arcgis.com/home/item.html?id=1ef2ba5aabb34ce6b5726f185f5273c2' target='_blank'>\n",
       "                        <img src='https://www.arcgis.com/sharing/rest//content/items/1ef2ba5aabb34ce6b5726f185f5273c2/info/thumbnail/ago_downloaded.gif' class=\"itemThumbnail\">\n",
       "                       </a>\n",
       "                    </div>\n",
       "\n",
       "                    <div class=\"item_right\"     style=\"float: none; width: auto; overflow: hidden;\">\n",
       "                        <a href='https://www.arcgis.com/home/item.html?id=1ef2ba5aabb34ce6b5726f185f5273c2' target='_blank'><b>Brazil, SP, Ribeirão Preto - Road network</b>\n",
       "                        </a>\n",
       "                        <br/><img src='https://www.arcgis.com/home/js/jsapi/esri/css/images/item_type_icons/featureshosted16.png' style=\"vertical-align:middle;\">Feature Layer Collection by data@addressforall.org\n",
       "                        <br/>Last Modified: junho 22, 2023\n",
       "                        <br/>0 comments, 14 views\n",
       "                    </div>\n",
       "                </div>\n",
       "                "
      ],
      "text/plain": [
       "<Item title:\"Brazil, SP, Ribeirão Preto - Road network\" type:Feature Layer Collection owner:data@addressforall.org>"
      ]
     },
     "metadata": {},
     "output_type": "display_data"
    }
   ],
   "source": [
    "layer_viario = gis.content.get('1ef2ba5aabb34ce6b5726f185f5273c2')\n",
    "display(layer_viario)"
   ]
  },
  {
   "cell_type": "code",
   "execution_count": 8,
   "metadata": {},
   "outputs": [
    {
     "data": {
      "text/plain": [
       "<FeatureLayer url:\"https://services.arcgis.com/EA4X0gt40CjxB1hv/arcgis/rest/services/a4a_br_sp_ribeiraopreto_parcel_7600005201101/FeatureServer/0\">"
      ]
     },
     "execution_count": 8,
     "metadata": {},
     "output_type": "execute_result"
    }
   ],
   "source": [
    "layer_loteamento.layers[0]"
   ]
  },
  {
   "cell_type": "code",
   "execution_count": 9,
   "metadata": {},
   "outputs": [
    {
     "name": "stdout",
     "output_type": "stream",
     "text": [
      "a4a_br_sp_ribeiraopreto_parcel_7600005201101\n"
     ]
    }
   ],
   "source": [
    "for lyr in layer_loteamento.layers:\n",
    "    print(lyr.properties.name)"
   ]
  },
  {
   "cell_type": "code",
   "execution_count": 10,
   "metadata": {},
   "outputs": [
    {
     "data": {
      "text/plain": [
       "{\n",
       "  \"xmin\": -5332116.891114475,\n",
       "  \"ymin\": -2430161.291088295,\n",
       "  \"xmax\": -5306841.800729863,\n",
       "  \"ymax\": -2401664.151329065,\n",
       "  \"spatialReference\": {\n",
       "    \"wkid\": 102100,\n",
       "    \"latestWkid\": 3857\n",
       "  }\n",
       "}"
      ]
     },
     "execution_count": 10,
     "metadata": {},
     "output_type": "execute_result"
    }
   ],
   "source": [
    "layer_loteamento.layers[0].properties.extent"
   ]
  },
  {
   "cell_type": "code",
   "execution_count": 11,
   "metadata": {},
   "outputs": [
    {
     "data": {
      "text/plain": [
       "{\n",
       "  \"renderer\": {\n",
       "    \"type\": \"simple\",\n",
       "    \"symbol\": {\n",
       "      \"type\": \"esriSFS\",\n",
       "      \"style\": \"esriSFSSolid\",\n",
       "      \"color\": [\n",
       "        76,\n",
       "        129,\n",
       "        205,\n",
       "        191\n",
       "      ],\n",
       "      \"outline\": {\n",
       "        \"type\": \"esriSLS\",\n",
       "        \"style\": \"esriSLSSolid\",\n",
       "        \"color\": [\n",
       "          0,\n",
       "          0,\n",
       "          0,\n",
       "          255\n",
       "        ],\n",
       "        \"width\": 0.75\n",
       "      }\n",
       "    }\n",
       "  },\n",
       "  \"transparency\": 0,\n",
       "  \"labelingInfo\": null\n",
       "}"
      ]
     },
     "execution_count": 11,
     "metadata": {},
     "output_type": "execute_result"
    }
   ],
   "source": [
    "layer_loteamento.layers[0].properties.drawingInfo"
   ]
  },
  {
   "cell_type": "code",
   "execution_count": 17,
   "metadata": {},
   "outputs": [],
   "source": [
    "map.add_layer(layer_loteamento.layers[0])\n",
    "map.add_layer(layer_viario.layers[0])"
   ]
  },
  {
   "cell_type": "code",
   "execution_count": 13,
   "metadata": {},
   "outputs": [
    {
     "data": {
      "text/html": [
       "<div class=\"item_container\" style=\"height: auto; overflow: hidden; border: 1px solid #cfcfcf; border-radius: 2px; background: #f6fafa; line-height: 1.21429em; padding: 10px;\">\n",
       "                    <div class=\"item_left\" style=\"width: 210px; float: left;\">\n",
       "                       <a href='https://www.arcgis.com/home/item.html?id=b0012adcfb844ea7b0674a5251ac4b42' target='_blank'>\n",
       "                        <img src='https://www.arcgis.com/sharing/rest//content/items/b0012adcfb844ea7b0674a5251ac4b42/info/thumbnail/ago_downloaded.png' class=\"itemThumbnail\">\n",
       "                       </a>\n",
       "                    </div>\n",
       "\n",
       "                    <div class=\"item_right\"     style=\"float: none; width: auto; overflow: hidden;\">\n",
       "                        <a href='https://www.arcgis.com/home/item.html?id=b0012adcfb844ea7b0674a5251ac4b42' target='_blank'><b>Original Plan Remaining from Basin and Range svc</b>\n",
       "                        </a>\n",
       "                        <br/>Route and directions for Original Plan Remaining from Basin and Range<img src='https://www.arcgis.com/home/js/jsapi/esri/css/images/item_type_icons/featureshosted16.png' style=\"vertical-align:middle;\">Feature Layer Collection by geeknixta\n",
       "                        <br/>Last Modified: junho 21, 2017\n",
       "                        <br/>0 comments, 994 views\n",
       "                    </div>\n",
       "                </div>\n",
       "                "
      ],
      "text/plain": [
       "<Item title:\"Original Plan Remaining from Basin and Range svc\" type:Feature Layer Collection owner:geeknixta>"
      ]
     },
     "metadata": {},
     "output_type": "display_data"
    },
    {
     "data": {
      "text/html": [
       "<div class=\"item_container\" style=\"height: auto; overflow: hidden; border: 1px solid #cfcfcf; border-radius: 2px; background: #f6fafa; line-height: 1.21429em; padding: 10px;\">\n",
       "                    <div class=\"item_left\" style=\"width: 210px; float: left;\">\n",
       "                       <a href='https://www.arcgis.com/home/item.html?id=806dc7a1946c473681441b8f78e1413b' target='_blank'>\n",
       "                        <img src='https://www.arcgis.com/sharing/rest//content/items/806dc7a1946c473681441b8f78e1413b/info/thumbnail/thumbnail.png' class=\"itemThumbnail\">\n",
       "                       </a>\n",
       "                    </div>\n",
       "\n",
       "                    <div class=\"item_right\"     style=\"float: none; width: auto; overflow: hidden;\">\n",
       "                        <a href='https://www.arcgis.com/home/item.html?id=806dc7a1946c473681441b8f78e1413b' target='_blank'><b>Loop7Victor_WFL</b>\n",
       "                        </a>\n",
       "                        <br/>Victor Loop Trail<img src='https://www.arcgis.com/home/js/jsapi/esri/css/images/item_type_icons/featureshosted16.png' style=\"vertical-align:middle;\">Feature Layer Collection by kgrahamACBCI\n",
       "                        <br/>Last Modified: fevereiro 28, 2018\n",
       "                        <br/>0 comments, 87.345 views\n",
       "                    </div>\n",
       "                </div>\n",
       "                "
      ],
      "text/plain": [
       "<Item title:\"Loop7Victor_WFL\" type:Feature Layer Collection owner:kgrahamACBCI>"
      ]
     },
     "metadata": {},
     "output_type": "display_data"
    },
    {
     "data": {
      "text/html": [
       "<div class=\"item_container\" style=\"height: auto; overflow: hidden; border: 1px solid #cfcfcf; border-radius: 2px; background: #f6fafa; line-height: 1.21429em; padding: 10px;\">\n",
       "                    <div class=\"item_left\" style=\"width: 210px; float: left;\">\n",
       "                       <a href='https://www.arcgis.com/home/item.html?id=408783ab810743c58129f0f54e04e00a' target='_blank'>\n",
       "                        <img src='https://www.arcgis.com/sharing/rest//content/items/408783ab810743c58129f0f54e04e00a/info/thumbnail/thumbnail.png' class=\"itemThumbnail\">\n",
       "                       </a>\n",
       "                    </div>\n",
       "\n",
       "                    <div class=\"item_right\"     style=\"float: none; width: auto; overflow: hidden;\">\n",
       "                        <a href='https://www.arcgis.com/home/item.html?id=408783ab810743c58129f0f54e04e00a' target='_blank'><b>DHS_COMMUNITY_DEVELOPMENT</b>\n",
       "                        </a>\n",
       "                        <br/>This layer consists of points and polygons for all development projects within the city of Desert Hot Springs, CA.<img src='https://www.arcgis.com/home/js/jsapi/esri/css/images/item_type_icons/featureshosted16.png' style=\"vertical-align:middle;\">Feature Layer Collection by iwagoladmin_DHS\n",
       "                        <br/>Last Modified: maio 02, 2023\n",
       "                        <br/>1 comments, 9.681 views\n",
       "                    </div>\n",
       "                </div>\n",
       "                "
      ],
      "text/plain": [
       "<Item title:\"DHS_COMMUNITY_DEVELOPMENT\" type:Feature Layer Collection owner:iwagoladmin_DHS>"
      ]
     },
     "metadata": {},
     "output_type": "display_data"
    }
   ],
   "source": [
    "items = gis.content.search('Palm Springs Trails', item_type=\"Feature Layer\", outside_org=True)\n",
    "for item in items[:3]:\n",
    "    display(item)"
   ]
  },
  {
   "cell_type": "code",
   "execution_count": 14,
   "metadata": {},
   "outputs": [
    {
     "data": {
      "application/vnd.jupyter.widget-view+json": {
       "model_id": "45795ccb679d46aab377e63cda7eb5e2",
       "version_major": 2,
       "version_minor": 0
      },
      "text/plain": [
       "MapView(layout=Layout(height='400px', width='100%'))"
      ]
     },
     "metadata": {},
     "output_type": "display_data"
    },
    {
     "data": {
      "text/html": [
       "<div class=\"map-static-img-preview-42221e33-60ec-49fe-adc3-0e3b47cb9abc\"><img src=\"\"></img></div>"
      ],
      "text/plain": [
       "<IPython.core.display.HTML object>"
      ]
     },
     "metadata": {},
     "output_type": "display_data"
    }
   ],
   "source": [
    "m = gis.map(\"Palm Springs, CA\")\n",
    "display(m)"
   ]
  },
  {
   "cell_type": "code",
   "execution_count": 15,
   "metadata": {},
   "outputs": [
    {
     "data": {
      "text/plain": [
       "<FeatureLayer url:\"https://services1.arcgis.com/vZDVlmMZaqT61d8y/arcgis/rest/services/Loop7Victor_WFL/FeatureServer/0\">"
      ]
     },
     "execution_count": 15,
     "metadata": {},
     "output_type": "execute_result"
    }
   ],
   "source": [
    "items[1].layers[0]"
   ]
  },
  {
   "cell_type": "code",
   "execution_count": 16,
   "metadata": {},
   "outputs": [],
   "source": [
    "m.add_layer(items[1].layers[0])"
   ]
  },
  {
   "cell_type": "code",
   "execution_count": null,
   "metadata": {},
   "outputs": [],
   "source": []
  }
 ],
 "metadata": {
  "kernelspec": {
   "display_name": ".venv",
   "language": "python",
   "name": "python3"
  },
  "language_info": {
   "codemirror_mode": {
    "name": "ipython",
    "version": 3
   },
   "file_extension": ".py",
   "mimetype": "text/x-python",
   "name": "python",
   "nbconvert_exporter": "python",
   "pygments_lexer": "ipython3",
   "version": "3.7.9"
  },
  "orig_nbformat": 4
 },
 "nbformat": 4,
 "nbformat_minor": 2
}
